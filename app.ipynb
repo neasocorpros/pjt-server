{
 "cells": [
  {
   "cell_type": "code",
   "execution_count": null,
   "metadata": {},
   "outputs": [],
   "source": [
    "# app.py => Serving Logic\n",
    "from flask import Flask, request\n",
    "\n",
    "# pip install flask_cors\n",
    "from flask_cors import CORS\n",
    "\n",
    "from utils.llm import query_llm\n",
    "\n",
    "app = Flask(__name__) # flask 서버 그 자체 / app이 아니라 다른 변수명도 노상관. 국룰일뿐\n",
    "CORS(app)\n",
    "\n",
    "# app.run() => 위 app을 돌리는 코드임 / 여기까지 세 줄이면 서버 돌기 시작\n",
    "\n",
    "# not found 뜨는 이유. route가 없어서. 뒤에 아무것도 없어서. \"GET / \"\n",
    "# 서버는 도는데, 오픈한 매장인데 메뉴가 없음. 줄수 있는 게 없음. 메뉴판 만들어야.\n",
    "\n",
    "# Routing (특정 URL마다 어떤 응답을 줄지 정의)\n",
    "@app.route('/', methods=['POST']) # 밑에 함수로 이때마다 어떤 일을 할지를 써놔야\n",
    "def index():\n",
    "    user_input = request.json['message']\n",
    "    ans = query_llm(user_input)\n",
    "    return {'llm': ans}\n",
    "\n",
    "# '/hi' => 사용자에게 {message: 'hi'} 을 응답으로 제공\n",
    "@app.route('/hi')\n",
    "def hi():\n",
    "    return {'message': 'hi'} #JS는 따옴표 안 써도 되지만 파이썬은 써야 함\n",
    "\n",
    "app.run(debug=True)"
   ]
  }
 ],
 "metadata": {
  "kernelspec": {
   "display_name": "venv",
   "language": "python",
   "name": "python3"
  },
  "language_info": {
   "codemirror_mode": {
    "name": "ipython",
    "version": 3
   },
   "file_extension": ".py",
   "mimetype": "text/x-python",
   "name": "python",
   "nbconvert_exporter": "python",
   "pygments_lexer": "ipython3",
   "version": "3.12.4"
  }
 },
 "nbformat": 4,
 "nbformat_minor": 2
}
