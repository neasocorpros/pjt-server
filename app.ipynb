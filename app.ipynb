{
 "cells": [
  {
   "cell_type": "code",
   "execution_count": 1,
   "metadata": {},
   "outputs": [
    {
     "name": "stderr",
     "output_type": "stream",
     "text": [
      "c:\\Users\\1-06\\Desktop\\team4-backend\\venv\\Lib\\site-packages\\pinecone\\data\\index.py:1: TqdmWarning: IProgress not found. Please update jupyter and ipywidgets. See https://ipywidgets.readthedocs.io/en/stable/user_install.html\n",
      "  from tqdm.autonotebook import tqdm\n"
     ]
    },
    {
     "name": "stdout",
     "output_type": "stream",
     "text": [
      "[Document(id='dda6abfe-278f-44c9-bada-7fd4412b8bcb', metadata={'row': 29.0, 'source': './database.csv'}, page_content='id: 30\\nhistory year: 1980\\nhistory description: 80년대, 5.18민주화운동, 계엄군, 전두환, 광주, 학살\\ngenre: \\nmovie description: 김상경, 이요원\\n저항, 슬픔, 비극\\nmovie title: 화려한 휴가\\nrelease date: 2007.07.25'), Document(id='3ab2cc02-2a9b-47bd-be06-98ae988d8595', metadata={'row': 29.0, 'source': './database.csv'}, page_content='id: 30\\nhistory year: 1980\\nhistory description: 80년대, 5.18민주화운동, 계엄군, 전두환, 광주, 학살\\ngenre: \\nmovie description: 김상경, 이요원\\n저항, 슬픔, 비극\\nmovie title: 화려한 휴가\\nrelease date: 2007.07.25'), Document(id='9322a0df-5359-4da7-a40e-2d80ffb5fd2a', metadata={'row': 19.0, 'source': './database.csv'}, page_content='id: 20\\nhistory year: 1964\\nhistory description: 1960년 3.15 부정선거, 4.19혁명\\n1961년 5.16군사정변\\n1968년 김신조 사건\\n60년대\\ngenre: \\nmovie description: 송강호, 대통령(독재자)의 이발사\\n역사 속의 개인\\nmovie title: 효자동 이발사\\nrelease date: 2004.05.05'), Document(id='47bacd9e-ff93-4191-bed8-0d48d691c3e6', metadata={'row': 19.0, 'source': './database.csv'}, page_content='id: 20\\nhistory year: 1964\\nhistory description: 1960년 3.15 부정선거, 4.19혁명\\n1961년 5.16군사정변\\n1968년 김신조 사건\\n60년대\\ngenre: \\nmovie description: 송강호, 대통령(독재자)의 이발사\\n역사 속의 개인\\nmovie title: 효자동 이발사\\nrelease date: 2004.05.05')]\n",
      "page_content='id: 20\n",
      "history year: 1964\n",
      "history description: 1960년 3.15 부정선거, 4.19혁명\n",
      "1961년 5.16군사정변\n",
      "1968년 김신조 사건\n",
      "60년대\n",
      "genre: \n",
      "movie description: 송강호, 대통령(독재자)의 이발사\n",
      "역사 속의 개인\n",
      "movie title: 효자동 이발사\n",
      "release date: 2004.05.05' metadata={'row': 19.0, 'source': './database.csv'}\n",
      "binary_score='no'\n",
      "binary_score='yes'\n",
      "80년대 배경의 전두환이 등장하는 영화로는 **\"화려한 휴가\"**가 있습니다. \n",
      "\n",
      "이 영화는 2007년에 개봉되었으며, 5.18 민주화운동을 다루고 있습니다. 전두환과 관련된 역사적 사건들을 배경으로 하여, 저항과 슬픔, 비극을 주제로 하고 있습니다. \n",
      "\n",
      "주연으로는 김상경과 이요원이 출연하며, 이 영화는 80년대의 아픈 역사를 되새기게 하는 작품입니다.\n"
     ]
    }
   ],
   "source": [
    "# app.py => Serving Logic\n",
    "from flask import Flask, request\n",
    "from flask_cors import CORS\n",
    "\n",
    "from utils.llm import query_llm"
   ]
  },
  {
   "cell_type": "code",
   "execution_count": 2,
   "metadata": {},
   "outputs": [
    {
     "data": {
      "text/plain": [
       "<flask_cors.extension.CORS at 0x27efee72de0>"
      ]
     },
     "execution_count": 2,
     "metadata": {},
     "output_type": "execute_result"
    }
   ],
   "source": [
    "app = Flask(__name__) # flask 서버 그 자체\n",
    "CORS(app)\n",
    "\n",
    "# app.run() => 위 app을 돌리는 코드임 / 여기까지 세 줄이면 서버 돌기 시작"
   ]
  },
  {
   "cell_type": "code",
   "execution_count": 3,
   "metadata": {},
   "outputs": [],
   "source": [
    "# Routing (특정 URL마다 어떤 응답을 줄지 정의)\n",
    "@app.route('/', methods=['POST']) # 밑에 함수로 이때마다 어떤 일을 할지를 써놔야\n",
    "def index():\n",
    "    user_input = request.json['message']\n",
    "    ans = query_llm(user_input)\n",
    "    return {'llm': ans}"
   ]
  },
  {
   "cell_type": "code",
   "execution_count": 4,
   "metadata": {},
   "outputs": [],
   "source": [
    "# '/hi' => 사용자에게 {message: 'hi'} 을 응답으로 제공\n",
    "@app.route('/hi')\n",
    "def hi():\n",
    "    return {'message': '윤동주 관련영화 알려줘'} #JS는 따옴표 안 써도 되지만 파이썬은 써야 함"
   ]
  },
  {
   "cell_type": "code",
   "execution_count": 5,
   "metadata": {},
   "outputs": [
    {
     "name": "stdout",
     "output_type": "stream",
     "text": [
      " * Serving Flask app '__main__'\n",
      " * Debug mode: on\n"
     ]
    },
    {
     "name": "stderr",
     "output_type": "stream",
     "text": [
      "WARNING: This is a development server. Do not use it in a production deployment. Use a production WSGI server instead.\n",
      " * Running on http://127.0.0.1:5000\n",
      "Press CTRL+C to quit\n",
      " * Restarting with stat\n"
     ]
    },
    {
     "ename": "SystemExit",
     "evalue": "1",
     "output_type": "error",
     "traceback": [
      "An exception has occurred, use %tb to see the full traceback.\n",
      "\u001b[1;31mSystemExit\u001b[0m\u001b[1;31m:\u001b[0m 1\n"
     ]
    },
    {
     "name": "stderr",
     "output_type": "stream",
     "text": [
      "c:\\Users\\1-06\\Desktop\\team4-backend\\venv\\Lib\\site-packages\\IPython\\core\\interactiveshell.py:3585: UserWarning: To exit: use 'exit', 'quit', or Ctrl-D.\n",
      "  warn(\"To exit: use 'exit', 'quit', or Ctrl-D.\", stacklevel=1)\n"
     ]
    }
   ],
   "source": [
    "app.run(debug=True)"
   ]
  },
  {
   "cell_type": "code",
   "execution_count": null,
   "metadata": {},
   "outputs": [],
   "source": []
  }
 ],
 "metadata": {
  "kernelspec": {
   "display_name": "venv",
   "language": "python",
   "name": "python3"
  },
  "language_info": {
   "codemirror_mode": {
    "name": "ipython",
    "version": 3
   },
   "file_extension": ".py",
   "mimetype": "text/x-python",
   "name": "python",
   "nbconvert_exporter": "python",
   "pygments_lexer": "ipython3",
   "version": "3.12.4"
  }
 },
 "nbformat": 4,
 "nbformat_minor": 2
}
