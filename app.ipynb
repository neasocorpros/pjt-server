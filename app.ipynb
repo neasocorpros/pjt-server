{
 "cells": [
  {
   "cell_type": "code",
   "execution_count": 2,
   "metadata": {},
   "outputs": [
    {
     "ename": "ModuleNotFoundError",
     "evalue": "No module named 'utils.llm'",
     "output_type": "error",
     "traceback": [
      "\u001b[1;31m---------------------------------------------------------------------------\u001b[0m",
      "\u001b[1;31mModuleNotFoundError\u001b[0m                       Traceback (most recent call last)",
      "Cell \u001b[1;32mIn[2], line 5\u001b[0m\n\u001b[0;32m      3\u001b[0m \u001b[38;5;28;01mfrom\u001b[39;00m \u001b[38;5;21;01mflask_cors\u001b[39;00m \u001b[38;5;28;01mimport\u001b[39;00m CORS\n\u001b[0;32m      4\u001b[0m \u001b[38;5;66;03m# 나중에 llm.ipynb를 .py로 바꿔줄 것\u001b[39;00m\n\u001b[1;32m----> 5\u001b[0m \u001b[38;5;28;01mfrom\u001b[39;00m \u001b[38;5;21;01mutils\u001b[39;00m\u001b[38;5;21;01m.\u001b[39;00m\u001b[38;5;21;01mllm\u001b[39;00m \u001b[38;5;28;01mimport\u001b[39;00m query_llm\n",
      "\u001b[1;31mModuleNotFoundError\u001b[0m: No module named 'utils.llm'"
     ]
    }
   ],
   "source": [
    "# app.py => Serving Logic\n",
    "from flask import Flask, request\n",
    "from flask_cors import CORS\n",
    "# 나중에 llm.ipynb를 .py로 바꿔줄 것\n",
    "from utils.llm import query_llm"
   ]
  },
  {
   "cell_type": "code",
   "execution_count": 3,
   "metadata": {},
   "outputs": [
    {
     "data": {
      "text/plain": [
       "<flask_cors.extension.CORS at 0x2a8e2d37770>"
      ]
     },
     "execution_count": 3,
     "metadata": {},
     "output_type": "execute_result"
    }
   ],
   "source": [
    "app = Flask(__name__) # flask 서버 그 자체\n",
    "CORS(app)\n",
    "\n",
    "# app.run() => 위 app을 돌리는 코드임 / 여기까지 세 줄이면 서버 돌기 시작"
   ]
  },
  {
   "cell_type": "code",
   "execution_count": 4,
   "metadata": {},
   "outputs": [],
   "source": [
    "# Routing (특정 URL마다 어떤 응답을 줄지 정의)\n",
    "@app.route('/', methods=['POST']) # 밑에 함수로 이때마다 어떤 일을 할지를 써놔야\n",
    "def index():\n",
    "    user_input = request.json['message']\n",
    "    ans = query_llm(user_input)\n",
    "    return {'llm': ans}"
   ]
  },
  {
   "cell_type": "code",
   "execution_count": 5,
   "metadata": {},
   "outputs": [],
   "source": [
    "# '/hi' => 사용자에게 {message: 'hi'} 을 응답으로 제공\n",
    "@app.route('/hi')\n",
    "def hi():\n",
    "    return {'message': 'hi'} #JS는 따옴표 안 써도 되지만 파이썬은 써야 함"
   ]
  },
  {
   "cell_type": "code",
   "execution_count": null,
   "metadata": {},
   "outputs": [],
   "source": [
    "app.run(debug=True)"
   ]
  }
 ],
 "metadata": {
  "kernelspec": {
   "display_name": "venv",
   "language": "python",
   "name": "python3"
  },
  "language_info": {
   "codemirror_mode": {
    "name": "ipython",
    "version": 3
   },
   "file_extension": ".py",
   "mimetype": "text/x-python",
   "name": "python",
   "nbconvert_exporter": "python",
   "pygments_lexer": "ipython3",
   "version": "3.12.4"
  }
 },
 "nbformat": 4,
 "nbformat_minor": 2
}
